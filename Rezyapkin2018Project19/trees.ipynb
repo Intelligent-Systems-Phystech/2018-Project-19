{
 "cells": [
  {
   "cell_type": "code",
   "execution_count": 3,
   "metadata": {},
   "outputs": [],
   "source": [
    "from nltk.corpus import wordnet as wn"
   ]
  },
  {
   "cell_type": "code",
   "execution_count": 61,
   "metadata": {},
   "outputs": [
    {
     "name": "stdout",
     "output_type": "stream",
     "text": [
      "Synset('entity.n.01') that which is perceived or known or inferred to have its own distinct existence (living or nonliving)\n",
      "Synset('abstraction.n.06')\n",
      "Synset('attribute.n.02')\n",
      "Synset('ballast.n.03')\n",
      "That's all\n"
     ]
    }
   ],
   "source": [
    "word = wn.synsets('entity')[0]\n",
    "print(word, word.definition())\n",
    "#print(word.hypernyms())\n",
    "#print(word.hyponyms())\n",
    "\n",
    "#print(word.hyponyms()[0], word.hyponyms()[0].hyponyms()[0])\n",
    "\n",
    "def get_all_hyponyms(word): # идет вглубь\n",
    "    try:\n",
    "        hypon = word.hyponyms()[0]\n",
    "        print(hypon)\n",
    "        get_all_hyponyms(hypon)\n",
    "    except:\n",
    "        print('That\\'s all')\n",
    "\n",
    "get_all_hyponyms(word)"
   ]
  },
  {
   "cell_type": "code",
   "execution_count": 62,
   "metadata": {},
   "outputs": [
    {
     "data": {
      "text/plain": [
       "<class 'nltk.corpus.reader.wordnet.Synset'>"
      ]
     },
     "execution_count": 62,
     "metadata": {},
     "output_type": "execute_result"
    }
   ],
   "source": [
    "type(word)"
   ]
  },
  {
   "cell_type": "code",
   "execution_count": 64,
   "metadata": {},
   "outputs": [
    {
     "data": {
      "text/plain": [
       "Synset('entity.n.01')"
      ]
     },
     "execution_count": 64,
     "metadata": {},
     "output_type": "execute_result"
    }
   ],
   "source": [
    "word"
   ]
  },
  {
   "cell_type": "code",
   "execution_count": 65,
   "metadata": {},
   "outputs": [],
   "source": [
    "# from collections import defaultdict\n",
    "\n",
    "# def tree():\n",
    "#     return defaultdict(tree)\n",
    "\n",
    "# ent = tree()\n",
    "# x = 1\n",
    "# while x:\n",
    "#     ent = ent.hyponyms()\n",
    "#     for word in len(ent):\n",
    "#         ent[word] = word.hyponyms()\n",
    "#            # for wordd in ent[word]:\n",
    "#                # ent[word][wordd]\n",
    "\n"
   ]
  },
  {
   "cell_type": "code",
   "execution_count": 66,
   "metadata": {},
   "outputs": [],
   "source": [
    "# def get_tree(word, tr, first=1):\n",
    "#     if first == 1:   \n",
    "#         word_sn = wn.synsets(word)[0]\n",
    "#     else:\n",
    "#         word_sn = word\n",
    "#     nodes = word_sn.hyponyms()\n",
    "#     for node in nodes:\n",
    "#         #print(node)\n",
    "#         if node.hyponyms() != []:\n",
    "#             tr[node] = get_tree(node, tr[node], 0)\n",
    "#         #print(node)\n",
    "#     return tr"
   ]
  },
  {
   "cell_type": "code",
   "execution_count": 67,
   "metadata": {},
   "outputs": [],
   "source": [
    "# tr = tree()\n",
    "# word = 'dog'\n",
    "# tr = get_tree(word, tr)"
   ]
  },
  {
   "cell_type": "code",
   "execution_count": 68,
   "metadata": {},
   "outputs": [],
   "source": [
    "# def dicts(t): \n",
    "#     return {k: dicts(t[k]) for k in t}"
   ]
  },
  {
   "cell_type": "code",
   "execution_count": 69,
   "metadata": {},
   "outputs": [],
   "source": [
    "from pptree import *"
   ]
  },
  {
   "cell_type": "code",
   "execution_count": 99,
   "metadata": {},
   "outputs": [],
   "source": [
    "def get_tree(word, tr=Node(word), first=1):\n",
    "    if first == 1: \n",
    "        try:\n",
    "            word_sn = wn.synsets(word)[0]\n",
    "            nod = Node(word)\n",
    "        except:\n",
    "            print('There is no such word in the dictionary') \n",
    "            return Node('error')\n",
    "    else:\n",
    "        word_sn = word\n",
    "        nod = Node(word_sn.lemma_names()[0], tr)\n",
    "        \n",
    "    nodes = word_sn.hyponyms()\n",
    "    \n",
    "    for node in nodes:\n",
    "        #print(node)\n",
    "        _ = get_tree(node, nod, first=0)\n",
    "        #print(node)\n",
    "        \n",
    "    return nod"
   ]
  },
  {
   "cell_type": "code",
   "execution_count": 110,
   "metadata": {
    "scrolled": false
   },
   "outputs": [
    {
     "name": "stdout",
     "output_type": "stream",
     "text": [
      "                         ┌linear_programming\n",
      "                         ├probability_theory\n",
      "     ┌applied_mathematics┤\n",
      "     │                   │          ┌biometrics\n",
      "     │                   │          ├nonparametric_statistics\n",
      "     │                   └statistics┤\n",
      "     │                              │           ┌curvilinear_correlation\n",
      "     │                              │           ├negative_correlation\n",
      "     │                              │           ├positive_correlation\n",
      "     │                              └correlation┤\n",
      "     │                                          ├partial_correlation┐\n",
      "     │                                          │                   └first-order_correlation\n",
      "     │                                          └spurious_correlation\n",
      " math┤\n",
      "     │                ┌metamathematics\n",
      "     │                ├numerical_analysis\n",
      "     │                ├set_theory\n",
      "     │                ├topology\n",
      "     │                ├arithmetic┐\n",
      "     │                │          └algorism\n",
      "     │                ├group_theory┐\n",
      "     │                │            └Galois_theory\n",
      "     │                │            ┌spherical_trigonometry\n",
      "     │                ├trigonometry┤\n",
      "     │                │            └triangulation\n",
      "     │                │       ┌linear_algebra\n",
      "     │                │       ├matrix_algebra\n",
      "     │                ├algebra┤\n",
      "     │                │       ├vector_algebra┐\n",
      "     │                │       │              └decomposition\n",
      "     │                │       └quadratics\n",
      "     └pure_mathematics┤\n",
      "                      │        ┌affine_geometry\n",
      "                      │        ├analytic_geometry\n",
      "                      │        ├elementary_geometry\n",
      "                      │        ├fractal_geometry\n",
      "                      │        ├plane_geometry\n",
      "                      ├geometry┤\n",
      "                      │        │                      ┌elliptic_geometry\n",
      "                      │        ├non-Euclidean_geometry┤\n",
      "                      │        │                      └hyperbolic_geometry\n",
      "                      │        ├spherical_geometry\n",
      "                      │        ├solid_geometry\n",
      "                      │        └projective_geometry\n",
      "                      │        ┌calculus_of_variations\n",
      "                      │        ├differential_calculus\n",
      "                      └calculus┤\n",
      "                               ├analysis┐\n",
      "                               │        └Fourier_analysis\n",
      "                               └integral_calculus\n"
     ]
    }
   ],
   "source": [
    "word = 'math'\n",
    "\n",
    "root = get_tree(word)\n",
    "\n",
    "print_tree(root)"
   ]
  },
  {
   "cell_type": "code",
   "execution_count": 111,
   "metadata": {},
   "outputs": [
    {
     "data": {
      "text/plain": [
       "'dog'"
      ]
     },
     "execution_count": 111,
     "metadata": {},
     "output_type": "execute_result"
    }
   ],
   "source": [
    "wn.synsets('dog')[0].lemma_names()[0]"
   ]
  },
  {
   "cell_type": "code",
   "execution_count": null,
   "metadata": {},
   "outputs": [],
   "source": []
  }
 ],
 "metadata": {
  "kernelspec": {
   "display_name": "Python 3",
   "language": "python",
   "name": "python3"
  },
  "language_info": {
   "codemirror_mode": {
    "name": "ipython",
    "version": 3
   },
   "file_extension": ".py",
   "mimetype": "text/x-python",
   "name": "python",
   "nbconvert_exporter": "python",
   "pygments_lexer": "ipython3",
   "version": "3.6.5"
  }
 },
 "nbformat": 4,
 "nbformat_minor": 2
}
